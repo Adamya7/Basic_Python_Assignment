{
  "nbformat": 4,
  "nbformat_minor": 0,
  "metadata": {
    "colab": {
      "provenance": [],
      "authorship_tag": "ABX9TyPxkz9wmIQAsaixm2NdGLp6",
      "include_colab_link": true
    },
    "kernelspec": {
      "name": "python3",
      "display_name": "Python 3"
    },
    "language_info": {
      "name": "python"
    }
  },
  "cells": [
    {
      "cell_type": "markdown",
      "metadata": {
        "id": "view-in-github",
        "colab_type": "text"
      },
      "source": [
        "<a href=\"https://colab.research.google.com/github/Adamya7/Basic_Python_Assignment/blob/main/Python_Assignment_1.ipynb\" target=\"_parent\"><img src=\"https://colab.research.google.com/assets/colab-badge.svg\" alt=\"Open In Colab\"/></a>"
      ]
    },
    {
      "cell_type": "markdown",
      "source": [
        "# **PYTHON** **ASSIGNMENT** **1**"
      ],
      "metadata": {
        "id": "-VW6WNBzcp6R"
      }
    },
    {
      "cell_type": "markdown",
      "source": [
        "# **Q.1**"
      ],
      "metadata": {
        "id": "NsPOzvEIhmZq"
      }
    },
    {
      "cell_type": "code",
      "source": [
        "#List L\n",
        "\n",
        "L = [11,12,13,14]\n",
        "\n",
        "print(\"Add 50 and 60 to L:\")\n",
        "L.append(50)\n",
        "L.append(60)\n",
        "print(L)\n",
        "\n",
        "print(\"\\nRemove 11 and 13:\")\n",
        "del L[0]\n",
        "del L[1]\n",
        "print(L)\n",
        "\n",
        "print(\"\\nAscending Order:\")\n",
        "L.sort()\n",
        "print(L)\n",
        "\n",
        "print(\"\\nReverse Order:\")\n",
        "L.sort(reverse=True)\n",
        "print(L)\n",
        "\n",
        "print(\"\\nSearch for 13:\")\n",
        "i=0\n",
        "for i in range(0,4):\n",
        "  if L[i]==13:\n",
        "    print(\"13 is at %d in L\" %i)\n",
        "    break\n",
        "else:\n",
        "  print(\"Not Found!\")\n",
        "\n",
        "print(\"\\nCount elements in L:\")\n",
        "print(\"%d elements in L\" %len(L))\n",
        "\n",
        "print(\"\\nSum of elements in L:\")\n",
        "print(\"-->%d\" %sum(L))\n",
        "\n",
        "print(\"\\nAdd ODD and EVEN numbers:\")\n",
        "o_sum = 0\n",
        "e_sum = 0\n",
        "for i in range(0,4):\n",
        "  if(L[i]%2!=0):\n",
        "    o_sum += L[i]\n",
        "  else:\n",
        "    e_sum += L[i]\n",
        "print(\"Odd Numbers' Sum = \",o_sum)\n",
        "print(\"Even Numbers' Sum + \",e_sum)\n",
        "\n",
        "print(\"\\nPrime Numbers' Sum:\")\n",
        "p_sum=0\n",
        "for i in range(0,4):\n",
        "  for j in range(2,(L[i]//2)+1):\n",
        "    if L[i]%j==0:\n",
        "      p_sum = 0\n",
        "    else:\n",
        "      p_sum+=L[i]\n",
        "print(\"Prime Numbers' Sum = \",p_sum)\n",
        "\n",
        "print(\"\\nClear L:\")\n",
        "L.clear()\n",
        "print(L)\n",
        "\n",
        "print(\"\\nDelete L:\")\n",
        "del L\n",
        "print(\"List L deleted.\")"
      ],
      "metadata": {
        "id": "niOzDga_cxQa"
      },
      "execution_count": null,
      "outputs": []
    },
    {
      "cell_type": "markdown",
      "source": [
        "**Q.2**"
      ],
      "metadata": {
        "id": "Y_ku3YATj4u2"
      }
    },
    {
      "cell_type": "code",
      "source": [
        "D = {1:5.6, 2:7.8, 3:6.6, 4:8.7, 5:7.7}\n",
        "\n",
        "print(\"\\nAdd key 8:8.8 :\")\n",
        "D[8] = 8.8\n",
        "print(D)\n",
        "\n",
        "print(\"\\nRemove key 2:\")\n",
        "del D[2]\n",
        "print(D)\n",
        "\n",
        "print(\"\\nCheck key 6 in D or not:\")\n",
        "print(\"6 is in D: \",6 in D)\n",
        "\n",
        "print(\"\\nELemnts in D:\")\n",
        "print(\"Total Elements: \", len(D))\n",
        "\n",
        "print(\"\\nAdd values of D:\")\n",
        "v_sum = sum(list(D.values()))\n",
        "print(\"Sum of values = \",v_sum)\n",
        "\n",
        "print(\"\\nUpdate key 3:\")\n",
        "D[3] = 7.1\n",
        "print(D)\n",
        "\n",
        "print(\"\\nClear D:\")\n",
        "D.clear()\n",
        "print(D)"
      ],
      "metadata": {
        "id": "fu7U_ThugvRl"
      },
      "execution_count": null,
      "outputs": []
    },
    {
      "cell_type": "markdown",
      "source": [
        "**Q.3**"
      ],
      "metadata": {
        "id": "5FVY-fWkoEd4"
      }
    },
    {
      "cell_type": "code",
      "source": [
        "S1 = set([10,20,30,40,50,60])\n",
        "S2 = set([40,50,60,70,80,90])\n",
        "\n",
        "print(\"Add 55 and 61 in S1:\")\n",
        "S1.add(55)\n",
        "S1.add(61)\n",
        "print(S1)\n",
        "\n",
        "print(\"\\nRemove 10 and 30 from S1:\")\n",
        "S1.remove(10)\n",
        "S1.remove(30)\n",
        "print(S1)\n",
        "\n",
        "print(\"\\nCheck 40 in S1 or not:\")\n",
        "print(\"40 is in S1: \", 40 in S1)\n",
        "\n",
        "print(\"\\nUnion of S1 and S2:\")\n",
        "print(\"Union: \", S1.union(S2))\n",
        "\n",
        "print(\"\\nIntersection of S1 and S2:\")\n",
        "print(\"Intersection \",S1.intersection(S2))\n",
        "\n",
        "print(\"\\nFind S1-S2:\")\n",
        "print(\"S1-S2 = \", S1-S2)"
      ],
      "metadata": {
        "id": "-R3cwrkUoIfj"
      },
      "execution_count": null,
      "outputs": []
    },
    {
      "cell_type": "markdown",
      "source": [
        "**Q.4**"
      ],
      "metadata": {
        "id": "iL6reFZRF1yR"
      }
    },
    {
      "cell_type": "code",
      "source": [
        "import string as s\n",
        "import random as r\n",
        "\n",
        "print(\"\\nPrint 100 random strings:\")\n",
        "_str = s.ascii_letters\n",
        "\n",
        "for i in range (0,100):\n",
        "  a = \"\".join(r.sample(_str,6))\n",
        "  print(a)\n",
        "\n",
        "print(\"\\nPrint Prime Numbers between 600 and 800:\")\n",
        "def isprime(n):\n",
        "  for i in range(2,n//2+1):\n",
        "    if n%i==0:\n",
        "      break\n",
        "    else:\n",
        "      print(n)\n",
        "\n",
        "for i in range(600,801):\n",
        "  isprime(i)\n",
        "\n",
        "print(\"\\nNumbers divisible by 7 and 9:\")\n",
        "def div7(n):\n",
        "  if n%7==0:\n",
        "    return 1\n",
        "  else:\n",
        "    return 0\n",
        "\n",
        "def div9(n):\n",
        "  if n%9==0:\n",
        "    return 1\n",
        "  else:\n",
        "    return 0\n",
        "\n",
        "for i in range(100,1001):\n",
        "  if(div7(i) and div9(i)):\n",
        "    print(i)"
      ],
      "metadata": {
        "id": "2mPMDZJSF4Z8"
      },
      "execution_count": null,
      "outputs": []
    },
    {
      "cell_type": "markdown",
      "source": [
        "**Q.5**"
      ],
      "metadata": {
        "id": "C5SoD8J0JOWU"
      }
    },
    {
      "cell_type": "code",
      "source": [
        "import random as r\n",
        "\n",
        "L1 = [2,3,4,5,6,7,8,9,1,0]\n",
        "L2 = [2,3,4,5,6,7,8,9,1,0]\n",
        "\n",
        "for i in range(0,10):\n",
        "  L1[i]=r.randint(10,30)\n",
        "\n",
        "for i in range(0,10):\n",
        "  L2[i] = r.randint(10,30)\n",
        "\n",
        "print(L1)\n",
        "print(L2)\n",
        "\n",
        "print(\"\\nCommon numbers:\")\n",
        "l1 = set(L1)\n",
        "l2 = set(L2)\n",
        "common = l1.intersection(l2)\n",
        "print(common)\n",
        "\n",
        "print(\"\\nUnique Numbers:\")\n",
        "unique1 = l1-l2\n",
        "unique2 = l2-l1\n",
        "unique = unique1.union(unique2)\n",
        "print(unique)\n",
        "\n",
        "print(\"\\nMinimum in both lists:\")\n",
        "if min(L1)<min(L2):\n",
        "  print(min(L1))\n",
        "else:\n",
        "  print(min(L2))\n",
        "\n",
        "print(\"\\nMaximum in both lists:\")\n",
        "if max(L1)>max(L2):\n",
        "  print(max(L1))\n",
        "else:\n",
        "  print(max(L2))\n",
        "\n",
        "print(\"\\nSum of lists:\")\n",
        "print(L1+L2)\n",
        "print(\"\\nSum of List elements:\")\n",
        "print(sum(L1+L2))"
      ],
      "metadata": {
        "id": "6i27XEHSJRRJ"
      },
      "execution_count": null,
      "outputs": []
    },
    {
      "cell_type": "markdown",
      "source": [
        "**Q.6**"
      ],
      "metadata": {
        "id": "UyfotZymtKFJ"
      }
    },
    {
      "cell_type": "code",
      "source": [
        "import random as r\n",
        "\n",
        "L = list(r.sample(range(100,901),100))\n",
        "Leven = list(r.sample(range(100,901),100))\n",
        "Lodd = list(r.sample(range(100,901),100))\n",
        "Lprime = list(r.sample(range(100,901),100))\n",
        "\n",
        "def isprime(n):\n",
        "  for i in range(2,n//2+1):\n",
        "    if n%i==0:\n",
        "      break\n",
        "    else:\n",
        "      return 1\n",
        "\n",
        "for i in range(0,100):\n",
        "  if L[i]%2==0:\n",
        "    Leven[i] = L[i]\n",
        "  else:  \n",
        "    Lodd[i] = L[i]\n",
        "\n",
        "for i in range(0,100):\n",
        "  if(isprime(L[i])):\n",
        "    Lprime[i] = L[i]\n",
        "\n",
        "print(\"Odd Numbers:\",Lodd)\n",
        "print(\"\\nEven Numbers:\",Leven)\n",
        "print(\"\\nPrime Numbers:\",Lprime)"
      ],
      "metadata": {
        "id": "3FuVNPxStOR4"
      },
      "execution_count": null,
      "outputs": []
    },
    {
      "cell_type": "markdown",
      "source": [
        "**Q.7**"
      ],
      "metadata": {
        "id": "eDIqec5-vTfT"
      }
    },
    {
      "cell_type": "code",
      "source": [
        "D = {1:\"One\",2:\"Two\",3:\"Three\",4:\"Four\",5:\"Five\"}\n",
        "keys = list(D.keys())\n",
        "values = list(D.values())\n",
        "\n",
        "for i in range(0,5):\n",
        "  print(keys[i],values[i])"
      ],
      "metadata": {
        "colab": {
          "base_uri": "https://localhost:8080/"
        },
        "id": "NTbj2P5It1HL",
        "outputId": "f0a1d564-a1a3-49d1-c12b-330819598cd4"
      },
      "execution_count": 23,
      "outputs": [
        {
          "output_type": "stream",
          "name": "stdout",
          "text": [
            "1 One\n",
            "2 Two\n",
            "3 Three\n",
            "4 Four\n",
            "5 Five\n"
          ]
        }
      ]
    },
    {
      "cell_type": "markdown",
      "source": [
        "**Q.8**"
      ],
      "metadata": {
        "id": "ReBrRCMYwTPc"
      }
    },
    {
      "cell_type": "code",
      "source": [
        "L = [\"One\",\"Two\",\"Three\",\"Four\",\"Five\"]\n",
        "f = open(\"result.txt\",'w')\n",
        "\n",
        "for i in range(0,5):\n",
        "  f.write(L[i]+\",\"+str(len(L[i])))"
      ],
      "metadata": {
        "id": "eGaqTDlOwVVC"
      },
      "execution_count": 33,
      "outputs": []
    },
    {
      "cell_type": "markdown",
      "source": [
        "**Q.9**"
      ],
      "metadata": {
        "id": "7dAE8WYIyg5_"
      }
    },
    {
      "cell_type": "code",
      "source": [
        "import random as r\n",
        "import string as s\n",
        "\n",
        "f = open(\"string.txt\",\"w\")\n",
        "letters = r.sample(s.ascii_letters,10)\n",
        "letters = \"\".join(letters)\n",
        "for i in range(0,100):\n",
        "  f.write(str(letters)+\"\\n\")"
      ],
      "metadata": {
        "id": "d4853rYNyib2"
      },
      "execution_count": 43,
      "outputs": []
    },
    {
      "cell_type": "markdown",
      "source": [
        "**Q.10**"
      ],
      "metadata": {
        "id": "DOVzslYn0ume"
      }
    },
    {
      "cell_type": "code",
      "source": [
        "def isprime(n):\n",
        "  for i in range(2,n//2+1):\n",
        "    if n%i==0:\n",
        "      return 0\n",
        "    else:\n",
        "      return 1\n",
        "\n",
        "f = open(\"prime.txt\",'w')\n",
        "\n",
        "for i in range(600,801):\n",
        "  if(isprime(i)):\n",
        "    f.write(str(i)+\"\\n\")"
      ],
      "metadata": {
        "id": "cseVnjEj1AL5"
      },
      "execution_count": 45,
      "outputs": []
    },
    {
      "cell_type": "markdown",
      "source": [
        "**Q.11**"
      ],
      "metadata": {
        "id": "0ce7ZEpn2I9y"
      }
    },
    {
      "cell_type": "code",
      "source": [
        "import time as t\n",
        "\n",
        "begin = t.time()\n",
        " \n",
        "for i in range(5):\n",
        "    print(\"GeeksForGeeks\")\n",
        " \n",
        "t.sleep(1)\n",
        "\n",
        "end = t.time()\n",
        " \n",
        "print(f\"Total runtime of the program is {end - begin}\")"
      ],
      "metadata": {
        "id": "JjQcTx5Z2KmQ"
      },
      "execution_count": null,
      "outputs": []
    },
    {
      "cell_type": "markdown",
      "source": [
        "**Q.12**"
      ],
      "metadata": {
        "id": "CekYyYka3WPz"
      }
    },
    {
      "cell_type": "code",
      "source": [
        "import random as r\n",
        "import time as t\n",
        "\n",
        "f = open(\"TimeTaken.txt\",'w')\n",
        "\n",
        "begin5 = t.time()\n",
        "L5K = list(r.sample(range(0,5000),5000))\n",
        "t.sleep(1)\n",
        "end5k = t.time()\n",
        "time5k = end5k - begin5\n",
        "\n",
        "f.write(\"5k \"+str(time5k)+\"\\n\")\n",
        "f.close()\n",
        "\n",
        "f = open(\"TimeTaken.txt\",'a')\n",
        "\n",
        "begin10 = t.time()\n",
        "L10K = list(r.sample(range(0,10000),10000))\n",
        "t.sleep(1)\n",
        "end10k = t.time()\n",
        "time10k = end10k - begin10\n",
        "\n",
        "f.write(\"10k \"+str(time10k)+\"\\n\")\n",
        "f.close()\n",
        "\n",
        "f = open(\"TimeTaken.txt\",'a')\n",
        "\n",
        "begin15 = t.time()\n",
        "L15K = list(r.sample(range(0,15000),15000))\n",
        "t.sleep(1)\n",
        "end15k = t.time()\n",
        "time15k = end15k - begin15\n",
        "\n",
        "f.write(\"15k \"+str(time15k)+\"\\n\")\n",
        "f.close()\n",
        "\n",
        "f = open(\"TimeTaken.txt\",'a')\n",
        "\n",
        "begin20 = t.time()\n",
        "L20K = list(r.sample(range(0,20000),20000))\n",
        "t.sleep(1)\n",
        "end20k = t.time()\n",
        "time20k = end20k - begin20\n",
        "\n",
        "f.write(\"20k \"+str(time20k)+\"\\n\")\n",
        "f.close()\n",
        "\n",
        "f = open(\"TimeTaken.txt\",'a')\n",
        "\n",
        "begin25 = t.time()\n",
        "L25K = list(r.sample(range(0,25000),25000))\n",
        "t.sleep(1)\n",
        "end25k = t.time()\n",
        "time25k = end25k - begin25\n",
        "\n",
        "f.write(\"25k \"+str(time25k)+\"\\n\")\n",
        "f.close()"
      ],
      "metadata": {
        "id": "nJvRwqUv3YVA"
      },
      "execution_count": 48,
      "outputs": []
    },
    {
      "cell_type": "markdown",
      "source": [
        "**Q.13**"
      ],
      "metadata": {
        "id": "j3UIWygO52kS"
      }
    },
    {
      "cell_type": "code",
      "source": [
        "S0 = {'E':89,'H':90,'M':98,'SC':88,'SST':80}\n",
        "S1 = {'E':99,'H':94,'M':80,'SC':98,'SST':90}\n",
        "S2 = {'E':86,'H':92,'M':79,'SC':96,'SST':99}\n",
        "S3 = {'E':85,'H':80,'M':68,'SC':95,'SST':79}\n",
        "S4 = {'E':90,'H':70,'M':79,'SC':50,'SST':86}\n",
        "\n",
        "avg1 = sum(S0.values())/len(S0)\n",
        "avg2 = sum(S1.values())/len(S1)\n",
        "avg3 = sum(S2.values())/len(S2)\n",
        "avg4 = sum(S3.values())/len(S3)\n",
        "avg5 = sum(S4.values())/len(S4)\n",
        "\n",
        "Lmarks = [avg1,avg2,avg3,avg4,avg5]\n",
        "print(\"Maximum average:\",max(Lmarks))\n",
        "print(\"\\nMinimum average:\",min(Lmarks))"
      ],
      "metadata": {
        "colab": {
          "base_uri": "https://localhost:8080/"
        },
        "id": "VrxnpFZs54K9",
        "outputId": "b7e82141-8431-4e87-fdcf-ab548715c471"
      },
      "execution_count": 51,
      "outputs": [
        {
          "output_type": "stream",
          "name": "stdout",
          "text": [
            "Maximum average: 92.2\n",
            "\n",
            "Minimum average: 75.0\n"
          ]
        }
      ]
    }
  ]
}